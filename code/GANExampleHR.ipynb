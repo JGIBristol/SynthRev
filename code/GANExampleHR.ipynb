{
 "cells": [
  {
   "cell_type": "markdown",
   "metadata": {},
   "source": [
    "Creating a GAN based of the example from this blog post: https://blog.paperspace.com/implementing-gans-in-tensorflow/\n",
    "\n",
    "Working with a single column in the data for experimental purposes. (i.e. Heart Rate)"
   ]
  },
  {
   "cell_type": "code",
   "execution_count": null,
   "metadata": {},
   "outputs": [],
   "source": [
    "# Import libraries\n",
    "\n",
    "import pandas as pd\n",
    "import numpy as np"
   ]
  },
  {
   "cell_type": "code",
   "execution_count": null,
   "metadata": {},
   "outputs": [],
   "source": [
    "# Load the data ie load only the heart rate column and use 10,000 observations\n",
    "data = pd.read_csv('final.csv', usecols= ['Heart Rate'], nrows= 10000)"
   ]
  }
 ],
 "metadata": {
  "kernelspec": {
   "display_name": "Python 3",
   "language": "python",
   "name": "python3"
  },
  "language_info": {
   "name": "python",
   "version": "3.11.3"
  }
 },
 "nbformat": 4,
 "nbformat_minor": 2
}
