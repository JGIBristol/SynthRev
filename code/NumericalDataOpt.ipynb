{
 "cells": [
  {
   "cell_type": "markdown",
   "metadata": {},
   "source": [
    "This code is used to create the Numerical Dataset\n",
    "\n",
    "Three options are used to create the Dataset\n",
    "\n",
    "1. Option 1: Using the earliest chart time for each hadm_id\n",
    "2. Option 2: Picking the charttime with the fewest NaNs\n",
    "3. Option 3: Picking the first reading within the hour (from the start of the first recorded time)\n",
    "\n",
    "Things to note:\n",
    "\n",
    "Because the chartevents data is very large only 20,000,000 rows were loaded"
   ]
  },
  {
   "cell_type": "code",
   "execution_count": 1,
   "metadata": {},
   "outputs": [],
   "source": [
    "# Import libraries\n",
    "\n",
    "import pandas as pd\n",
    "import os\n",
    "import numpy as np"
   ]
  },
  {
   "cell_type": "code",
   "execution_count": 2,
   "metadata": {},
   "outputs": [],
   "source": [
    "# Funtion to load the items table\n",
    "def load_items(file_path):\n",
    "\n",
    "    \"\"\"\n",
    "    Loads the items data from a CSV file and filters it based on specific item IDs.\n",
    "\n",
    "    Parameters:\n",
    "    file_path (str): The path to the items CSV file.\n",
    "\n",
    "    Returns:\n",
    "    pd.DataFrame: A filtered DataFrame containing specific items.\n",
    "    \"\"\"\n",
    "\n",
    "    items = pd.read_csv(file_path, usecols=['itemid', 'label', 'abbreviation'])\n",
    "    filtered_items = items[items['itemid'].isin([220210, 220277, 225309, 220045, 220739, 223900, 223901, 223762])]\n",
    "    return filtered_items"
   ]
  },
  {
   "cell_type": "code",
   "execution_count": 3,
   "metadata": {},
   "outputs": [],
   "source": [
    "# Funtion to load the chart events table\n",
    "def load_chart_events(file_path, nrows=20000000):\n",
    "    \"\"\"\n",
    "    Loads the chart events data from a CSV file and filters it based on specific item IDs.\n",
    "\n",
    "    Parameters:\n",
    "    file_path (str): The path to the chart events CSV file.\n",
    "    nrows (int): The number of rows to read from the CSV file.\n",
    "\n",
    "    Returns:\n",
    "    pd.DataFrame: A filtered DataFrame containing specific chart events.\n",
    "    \"\"\"\n",
    "    chart = pd.read_csv(file_path, usecols=['subject_id', 'hadm_id', 'charttime', 'itemid', 'valuenum', 'valueuom'], nrows=nrows)\n",
    "    filtered_chart = chart[chart['itemid'].isin([220210, 220277, 225309, 220045, 220739, 223900, 223901, 223762])]\n",
    "    return filtered_chart"
   ]
  },
  {
   "cell_type": "code",
   "execution_count": 4,
   "metadata": {},
   "outputs": [],
   "source": [
    "# Function to combine the two datasets\n",
    "def combine_data(chart, items):\n",
    "    \"\"\"\n",
    "    Combines the chart events and items data into a single DataFrame.\n",
    "\n",
    "    Parameters:\n",
    "    chart (pd.DataFrame): The chart events DataFrame.\n",
    "    items (pd.DataFrame): The items DataFrame.\n",
    "\n",
    "    Returns:\n",
    "    pd.DataFrame: The combined DataFrame.\n",
    "    \"\"\"\n",
    "    combined_data = pd.merge(chart, items, on=['itemid'])\n",
    "    combined_data = combined_data.pivot_table(index=['subject_id', 'hadm_id', 'charttime'], columns='label', values='valuenum').reset_index()\n",
    "    combined_data['GCS Total'] = combined_data[['GCS - Eye Opening', 'GCS - Motor Response', 'GCS - Verbal Response']].sum(axis=1)\n",
    "    combined_data = combined_data.drop(columns=['GCS - Eye Opening', 'GCS - Motor Response', 'GCS - Verbal Response'])\n",
    "    return combined_data"
   ]
  },
  {
   "cell_type": "code",
   "execution_count": 5,
   "metadata": {},
   "outputs": [],
   "source": [
    "# Function for option 1: using the earliest chart time for each hadm_id\n",
    "def option_earliest_chart_time(data):\n",
    "    \"\"\"\n",
    "    Selects the earliest chart time for each hadm_id.\n",
    "\n",
    "    Parameters:\n",
    "    data (pd.DataFrame): The combined DataFrame.\n",
    "\n",
    "    Returns:\n",
    "    pd.DataFrame: A DataFrame with the earliest chart time for each hadm_id.\n",
    "    \"\"\"\n",
    "    data['charttime'] = pd.to_datetime(data['charttime'])\n",
    "    sorted_data = data.sort_values(by=['hadm_id', 'charttime'])\n",
    "    earliest_data = sorted_data.loc[sorted_data.groupby('hadm_id')['charttime'].idxmin()].reset_index(drop=True)\n",
    "    return earliest_data"
   ]
  },
  {
   "cell_type": "code",
   "execution_count": 6,
   "metadata": {},
   "outputs": [],
   "source": [
    "# Function for option 2: picking the chart time with the fewest NaNs\n",
    "def option_fewest_nans(data):\n",
    "    \"\"\"\n",
    "    Selects the chart time with the fewest NaNs for each hadm_id.\n",
    "\n",
    "    Parameters:\n",
    "    data (pd.DataFrame): The combined DataFrame.\n",
    "\n",
    "    Returns:\n",
    "    pd.DataFrame: A DataFrame with the fewest NaNs for each hadm_id.\n",
    "    \"\"\"\n",
    "    data['nan_count'] = data.isna().sum(axis=1)\n",
    "    sorted_data = data.sort_values(by=['hadm_id', 'nan_count'])\n",
    "    fewest_nans_data = sorted_data.drop_duplicates(subset=['hadm_id'], keep='first').drop(columns=['nan_count'])\n",
    "    return fewest_nans_data"
   ]
  },
  {
   "cell_type": "code",
   "execution_count": 7,
   "metadata": {},
   "outputs": [],
   "source": [
    "# Function for option 3: Picking the first reading within the hour (from the start of the first recorded time)\n",
    "def option_first_within_hour(data):\n",
    "    \"\"\"\n",
    "    Selects the first reading within the hour from the start of the first recorded time for each hadm_id.\n",
    "\n",
    "    Parameters:\n",
    "    data (pd.DataFrame): The combined DataFrame.\n",
    "\n",
    "    Returns:\n",
    "    pd.DataFrame: A DataFrame with the first reading within the hour for each hadm_id.\n",
    "    \"\"\"\n",
    "    data['charttime'] = pd.to_datetime(data['charttime'])\n",
    "    sorted_data = data.sort_values(by=['hadm_id', 'charttime'])\n",
    "    results = []\n",
    "\n",
    "    for hadmid, group in sorted_data.groupby('hadm_id'):\n",
    "        first_readings = {'subject_id': group['subject_id'].iloc[0], 'hadm_id': hadmid}\n",
    "        start_time = group['charttime'].iloc[0]\n",
    "        end_time = start_time + pd.Timedelta(hours=1)\n",
    "        within_first_hour = group[(group['charttime'] >= start_time) & (group['charttime'] < end_time)]\n",
    "\n",
    "        first_readings['charttime'] = start_time\n",
    "        for column in group.columns[2:]:\n",
    "            first_readings[column] = np.nan\n",
    "\n",
    "        for column in group.columns[2:]:\n",
    "            first_valid_index = within_first_hour[column].first_valid_index()\n",
    "            if first_valid_index is not None:\n",
    "                first_readings['charttime'] = within_first_hour.loc[first_valid_index, 'charttime']\n",
    "                first_readings[column] = within_first_hour.loc[first_valid_index, column]\n",
    "            else:\n",
    "                first_readings[column] = np.nan\n",
    "\n",
    "        results.append(first_readings)\n",
    "\n",
    "    result_df_hour = pd.DataFrame(results).drop(columns=['nan_count'], errors='ignore')\n",
    "    return result_df_hour"
   ]
  },
  {
   "cell_type": "code",
   "execution_count": 8,
   "metadata": {},
   "outputs": [],
   "source": [
    "# Function to load patient data and combine with other dataset\n",
    "def load_patient_data(file_path):\n",
    "    \"\"\"\n",
    "    Loads the patient data from a CSV file.\n",
    "\n",
    "    Parameters:\n",
    "    file_path (str): The path to the patient CSV file.\n",
    "\n",
    "    Returns:\n",
    "    pd.DataFrame: A DataFrame containing the patient data.\n",
    "    \"\"\"\n",
    "    patient_data = pd.read_csv(file_path, usecols=['subject_id', 'anchor_age'])\n",
    "    return patient_data\n",
    "\n",
    "def merge_with_patient_data(patient_data, df):\n",
    "    \"\"\"\n",
    "    Merges the patient data with another DataFrame based on the 'subject_id' column.\n",
    "\n",
    "    Parameters:\n",
    "    patient_data (pd.DataFrame): The DataFrame containing patient data.\n",
    "    df (pd.DataFrame): The DataFrame to be merged with patient data.\n",
    "\n",
    "    Returns:\n",
    "    pd.DataFrame: The merged DataFrame.\n",
    "    \"\"\"\n",
    "    final_df = pd.merge(patient_data, df, on=['subject_id'])\n",
    "    return final_df"
   ]
  },
  {
   "cell_type": "code",
   "execution_count": 9,
   "metadata": {},
   "outputs": [],
   "source": [
    "# Specify the paths\n",
    "items_path = os.path.join('..', 'd_items.csv')\n",
    "chart_path = os.path.join('..', 'chartevents.csv')\n",
    "patient_path = os.path.join('..','patients.csv', 'patients.csv')\n",
    "\n",
    "# Load the data\n",
    "items = load_items(items_path)\n",
    "chart = load_chart_events(chart_path)\n",
    "patient_data = load_patient_data(patient_path)\n",
    "\n",
    "# Combine the datasets\n",
    "combined_data = combine_data(chart, items)"
   ]
  },
  {
   "cell_type": "code",
   "execution_count": 10,
   "metadata": {},
   "outputs": [],
   "source": [
    "# Option 1\n",
    "earliest_data = option_earliest_chart_time(combined_data)\n",
    "\n",
    "final_earliest_data = merge_with_patient_data(patient_data, earliest_data)\n",
    "\n",
    "final_earliest_data.to_csv('NumOp1.csv')"
   ]
  },
  {
   "cell_type": "code",
   "execution_count": 11,
   "metadata": {},
   "outputs": [],
   "source": [
    "# Option 2\n",
    "fewest_nans_data = option_fewest_nans(combined_data)\n",
    "\n",
    "final_fewest_nans_data = merge_with_patient_data(patient_data, fewest_nans_data)\n",
    "\n",
    "final_fewest_nans_data.to_csv('NumOp2.csv')"
   ]
  },
  {
   "cell_type": "code",
   "execution_count": 12,
   "metadata": {},
   "outputs": [],
   "source": [
    "# Option 3\n",
    "first_within_hour_data = option_first_within_hour(combined_data)\n",
    "\n",
    "final_first_within_hour_data = merge_with_patient_data(patient_data, first_within_hour_data)\n",
    "\n",
    "final_first_within_hour_data.to_csv('NumOp3.csv')"
   ]
  }
 ],
 "metadata": {
  "kernelspec": {
   "display_name": "Python 3",
   "language": "python",
   "name": "python3"
  },
  "language_info": {
   "codemirror_mode": {
    "name": "ipython",
    "version": 3
   },
   "file_extension": ".py",
   "mimetype": "text/x-python",
   "name": "python",
   "nbconvert_exporter": "python",
   "pygments_lexer": "ipython3",
   "version": "3.11.3"
  }
 },
 "nbformat": 4,
 "nbformat_minor": 2
}
