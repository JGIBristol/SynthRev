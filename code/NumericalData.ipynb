{
 "cells": [
  {
   "cell_type": "markdown",
   "metadata": {},
   "source": [
    "Code to extract numerical and time series data.\n",
    "\n",
    "Things to note:\n",
    "\n",
    "Because the chartevents data is very large only 20,000,000 rows were loaded"
   ]
  },
  {
   "cell_type": "code",
   "execution_count": 1,
   "metadata": {},
   "outputs": [],
   "source": [
    "# Import libraries\n",
    "import os\n",
    "import pandas as pd"
   ]
  },
  {
   "cell_type": "code",
   "execution_count": 2,
   "metadata": {},
   "outputs": [],
   "source": [
    "# Load the data\n",
    "\n",
    "#items \n",
    "items = pd.read_csv(os.path.join('..','d_items.csv'), usecols= ['itemid', 'label', 'abbreviation'])\n",
    "\n",
    "items = items[items['itemid'].isin([220210, 220277, 225309, 220045, 220739, 223900, 223901, 223762])]\n"
   ]
  },
  {
   "cell_type": "markdown",
   "metadata": {},
   "source": [
    "Option 1: Using the earliest chart time for each hadm_id\n"
   ]
  },
  {
   "cell_type": "code",
   "execution_count": 3,
   "metadata": {},
   "outputs": [],
   "source": [
    "# chartevents\n",
    "chart = pd.read_csv(os.path.join('..','chartevents.csv'), usecols= ['subject_id', 'hadm_id', 'charttime','itemid', 'valuenum', 'valueuom'], nrows=20000000)\n",
    "\n",
    "chart = chart[chart['itemid'].isin([220210, 220277, 225309, 220045, 220739, 223900, 223901, 223762])]\n",
    "\n",
    "chart['charttime'] = pd.to_datetime(chart['charttime'])\n",
    "\n",
    "chart = chart.sort_values(by = ['hadm_id', 'charttime'] )\n",
    "\n",
    "chart = chart.groupby('hadm_id').first().reset_index()\n"
   ]
  },
  {
   "cell_type": "code",
   "execution_count": 4,
   "metadata": {},
   "outputs": [
    {
     "data": {
      "text/plain": [
       "(4351, 6)"
      ]
     },
     "execution_count": 4,
     "metadata": {},
     "output_type": "execute_result"
    }
   ],
   "source": [
    "chart.shape"
   ]
  },
  {
   "cell_type": "code",
   "execution_count": 5,
   "metadata": {},
   "outputs": [],
   "source": [
    "# Combining the dataset\n",
    "num_data = pd.merge(chart, items, on = ['itemid'])"
   ]
  },
  {
   "cell_type": "code",
   "execution_count": 6,
   "metadata": {},
   "outputs": [],
   "source": [
    "# Use the items as columns\n",
    "num_data = num_data.pivot_table(index= ['subject_id', 'hadm_id', 'charttime'], columns = 'label', values = 'valuenum').reset_index()"
   ]
  },
  {
   "cell_type": "code",
   "execution_count": 7,
   "metadata": {},
   "outputs": [],
   "source": [
    "# Combine all the GCS to get the total\n",
    "num_data['GCS Total'] = num_data[['GCS - Eye Opening', 'GCS - Motor Response', 'GCS - Verbal Response']].sum(axis=1)\n",
    "\n",
    "num_data = num_data.drop(columns = ['GCS - Eye Opening', 'GCS - Motor Response', 'GCS - Verbal Response'])"
   ]
  },
  {
   "cell_type": "code",
   "execution_count": 8,
   "metadata": {},
   "outputs": [],
   "source": [
    "# Get the age column\n",
    "patient_data = pd.read_csv(os.path.join('..','patients.csv', 'patients.csv'), usecols= ['subject_id','anchor_age'])"
   ]
  },
  {
   "cell_type": "code",
   "execution_count": 9,
   "metadata": {},
   "outputs": [],
   "source": [
    "# Merge the age column to the numerical dataset\n",
    "final = pd.merge(patient_data, num_data, on = ['subject_id'])"
   ]
  },
  {
   "cell_type": "code",
   "execution_count": 10,
   "metadata": {},
   "outputs": [],
   "source": [
    "final.to_csv('NumericalData.csv')"
   ]
  }
 ],
 "metadata": {
  "kernelspec": {
   "display_name": "Python 3",
   "language": "python",
   "name": "python3"
  },
  "language_info": {
   "codemirror_mode": {
    "name": "ipython",
    "version": 3
   },
   "file_extension": ".py",
   "mimetype": "text/x-python",
   "name": "python",
   "nbconvert_exporter": "python",
   "pygments_lexer": "ipython3",
   "version": "3.11.3"
  }
 },
 "nbformat": 4,
 "nbformat_minor": 2
}
