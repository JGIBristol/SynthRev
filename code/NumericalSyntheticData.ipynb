{
 "cells": [
  {
   "cell_type": "markdown",
   "metadata": {},
   "source": [
    "Code to create synthetic data based on different distributions.\n",
    "\n",
    "Using the three options"
   ]
  },
  {
   "cell_type": "code",
   "execution_count": 39,
   "metadata": {},
   "outputs": [],
   "source": [
    "# Import libraries\n",
    "import pandas as pd\n",
    "import numpy as np"
   ]
  },
  {
   "cell_type": "code",
   "execution_count": 40,
   "metadata": {},
   "outputs": [],
   "source": [
    "def load_data(filename):\n",
    "    # Load the data\n",
    "    data = pd.read_csv(filename)\n",
    "    \n",
    "    # Drop the first column\n",
    "    data = data.drop(data.columns[0], axis=1)\n",
    "    \n",
    "    # Create a dataframe with numerical columns only\n",
    "    nums = data.drop(['subject_id', 'hadm_id', 'charttime'], axis=1)\n",
    "    \n",
    "    return nums\n",
    "\n",
    "def calculate_stats(nums):\n",
    "    # Determine the null values in each column\n",
    "    nan_counts = nums.isnull().sum()\n",
    "    total_counts = len(nums)\n",
    "    nan_percent = (nan_counts / total_counts) * 100\n",
    "    \n",
    "    # Calculate mean and variance for each column\n",
    "    smean = nums.mean()\n",
    "    svar = nums.var()\n",
    "    \n",
    "    return nan_counts, smean, svar\n",
    "\n",
    "def generate_synthetic_data(nums, nan_counts, smean, svar):\n",
    "    samples = len(nums)\n",
    "    synth_data = pd.DataFrame()\n",
    "    \n",
    "    for column in nums.columns:\n",
    "        mean = smean[column]\n",
    "        variance = svar[column]\n",
    "        std_dev = np.sqrt(variance)\n",
    "        \n",
    "        # Sample from a normal distribution\n",
    "        synthetic_data = np.random.normal(loc=mean, scale=std_dev, size=samples)\n",
    "\n",
    "        # Cap GCS_Total values at 15 and ensure all values are non-negative\n",
    "        if column == 'GCS Total':\n",
    "            synthetic_data = np.clip(synthetic_data, a_min=0, a_max=15)\n",
    "        else:\n",
    "            synthetic_data = np.clip(synthetic_data, a_min=0, a_max=None)\n",
    "        \n",
    "        # Introduce NaNs based on the original NaN distribution\n",
    "        num_nans = nan_counts[column]\n",
    "        nan_indices = np.random.choice(samples, num_nans, replace=False)\n",
    "        synthetic_data[nan_indices] = np.nan\n",
    "        \n",
    "        synth_data[column] = synthetic_data\n",
    "    \n",
    "    return synth_data\n",
    "\n",
    "# Process a file and generate synthetic data\n",
    "def process_file(filename):\n",
    "    nums = load_data(filename)\n",
    "    nan_counts, smean, svar = calculate_stats(nums)\n",
    "    synth_data = generate_synthetic_data(nums, nan_counts, smean, svar)\n",
    "    \n",
    "    return nums, synth_data\n",
    "\n",
    "# Compare statistics of real and synthetic data\n",
    "def compare_stats(real_data, synth_data):\n",
    "    real_nan_counts, real_mean, real_var = calculate_stats(real_data)\n",
    "    synth_nan_counts, synth_mean, synth_var = calculate_stats(synth_data)\n",
    "    \n",
    "    print(\"Comparison of Real and Synthetic Data:\\n\")\n",
    "    \n",
    "    for column in real_data.columns:\n",
    "        print(f\"Column: {column}\")\n",
    "        \n",
    "        print(f\"Real Mean: {real_mean[column]}\")\n",
    "        print(f\"Synthetic Mean: {synth_mean[column]}\")\n",
    "        print(f\"Mean Difference: {real_mean[column] - synth_mean[column]}\\n\")\n",
    "        \n",
    "        print(f\"Real Variance: {real_var[column]}\")\n",
    "        print(f\"Synthetic Variance: {synth_var[column]}\")\n",
    "        print(f\"Variance Difference: {real_var[column] - synth_var[column]}\\n\")\n",
    "        \n",
    "        print(f\"Real NaN Count: {real_nan_counts[column]}\")\n",
    "        print(f\"Synthetic NaN Count: {synth_nan_counts[column]}\")\n",
    "        print(f\"NaN Count Difference: {real_nan_counts[column] - synth_nan_counts[column]}\\n\")\n",
    "        print(\"-\" * 50)\n"
   ]
  },
  {
   "cell_type": "markdown",
   "metadata": {},
   "source": [
    "Option 1"
   ]
  },
  {
   "cell_type": "code",
   "execution_count": 41,
   "metadata": {},
   "outputs": [],
   "source": [
    "# Option 1: Using the earliest chart time for each hadm_id\n",
    "real_data_op1, synth_data_op1 = process_file('NumOp1.csv')"
   ]
  },
  {
   "cell_type": "code",
   "execution_count": 42,
   "metadata": {},
   "outputs": [
    {
     "name": "stdout",
     "output_type": "stream",
     "text": [
      "Option 1:\n"
     ]
    }
   ],
   "source": [
    "print(\"Option 1:\")\n",
    "\n",
    "#compare_stats(real_data_op1, synth_data_op1)"
   ]
  },
  {
   "cell_type": "markdown",
   "metadata": {},
   "source": [
    "Option 2"
   ]
  },
  {
   "cell_type": "code",
   "execution_count": 43,
   "metadata": {},
   "outputs": [],
   "source": [
    "# Option 2: Picking the charttime with the fewest NaNs\n",
    "real_data_op2, synth_data_op2 = process_file('NumOp2.csv')"
   ]
  },
  {
   "cell_type": "code",
   "execution_count": 44,
   "metadata": {},
   "outputs": [
    {
     "name": "stdout",
     "output_type": "stream",
     "text": [
      "Option 2:\n"
     ]
    }
   ],
   "source": [
    "print(\"Option 2:\")\n",
    "#compare_stats(real_data_op2, synth_data_op2)"
   ]
  },
  {
   "cell_type": "markdown",
   "metadata": {},
   "source": [
    "Option 3"
   ]
  },
  {
   "cell_type": "code",
   "execution_count": 45,
   "metadata": {},
   "outputs": [],
   "source": [
    "# Option 3: Picking the first reading within the hour (from the start of the first recorded time)\n",
    "real_data_op3, synth_data_op3 = process_file('NumOp3.csv')"
   ]
  },
  {
   "cell_type": "code",
   "execution_count": 46,
   "metadata": {},
   "outputs": [
    {
     "name": "stdout",
     "output_type": "stream",
     "text": [
      "Option 3:\n"
     ]
    }
   ],
   "source": [
    "print(\"Option 3:\")\n",
    "#compare_stats(real_data_op3, synth_data_op3)"
   ]
  }
 ],
 "metadata": {
  "kernelspec": {
   "display_name": "Python 3",
   "language": "python",
   "name": "python3"
  },
  "language_info": {
   "codemirror_mode": {
    "name": "ipython",
    "version": 3
   },
   "file_extension": ".py",
   "mimetype": "text/x-python",
   "name": "python",
   "nbconvert_exporter": "python",
   "pygments_lexer": "ipython3",
   "version": "3.11.3"
  }
 },
 "nbformat": 4,
 "nbformat_minor": 2
}
