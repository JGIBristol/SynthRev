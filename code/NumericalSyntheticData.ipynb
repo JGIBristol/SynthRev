{
 "cells": [
  {
   "cell_type": "markdown",
   "metadata": {},
   "source": [
    "Code to create synthetic data based on different distributions.\n",
    "\n",
    "** Work in progress **"
   ]
  },
  {
   "cell_type": "code",
   "execution_count": 15,
   "metadata": {},
   "outputs": [],
   "source": [
    "# Import libraries\n",
    "import pandas as pd\n",
    "import numpy as np"
   ]
  },
  {
   "cell_type": "code",
   "execution_count": null,
   "metadata": {},
   "outputs": [],
   "source": [
    "# Load the data\n",
    "data = pd.read_csv('NumericalData.csv')\n",
    "\n",
    "data = data.drop(data.columns[0], axis = 1)\n",
    "\n",
    "data.head()"
   ]
  },
  {
   "cell_type": "code",
   "execution_count": null,
   "metadata": {},
   "outputs": [],
   "source": [
    "# Create a dataframe with numerical columns only\n",
    "nums = data.drop(['subject_id','hadm_id','charttime'], axis = 1)\n",
    "\n",
    "nums.head()"
   ]
  },
  {
   "cell_type": "code",
   "execution_count": null,
   "metadata": {},
   "outputs": [],
   "source": [
    "# Determine the null values in each column\n",
    "nums['GCS Total'].replace(0, np.nan, inplace= True)\n",
    "\n",
    "nan_counts = nums.isnull().sum()\n",
    "\n",
    "total_counts = len(nums)\n",
    "\n",
    "nan_percent = (nan_counts/total_counts) * 100\n",
    "\n",
    "nan_percent"
   ]
  },
  {
   "cell_type": "code",
   "execution_count": null,
   "metadata": {},
   "outputs": [],
   "source": [
    "nums.describe()"
   ]
  },
  {
   "cell_type": "code",
   "execution_count": null,
   "metadata": {},
   "outputs": [],
   "source": [
    "# Calculate mean and variance for each column\n",
    "smean = nums.mean()\n",
    "\n",
    "svar = nums.var()\n",
    "\n",
    "for column in nums.columns:\n",
    "    print(f\"Column: {column}\")\n",
    "    print(f\"Mean: {smean[column]}\")\n",
    "    print(f\"Variance: {svar[column]}\\n\")"
   ]
  },
  {
   "cell_type": "code",
   "execution_count": null,
   "metadata": {},
   "outputs": [],
   "source": [
    "# Synthetic data generation\n",
    "samples = len(nums)\n",
    "\n",
    "synth_data = pd.DataFrame()\n",
    "\n",
    "for column in nums.columns:\n",
    "    mean = smean[column]\n",
    "    variance = svar[column]\n",
    "    std_dev = np.sqrt(variance)\n",
    "\n",
    "    #Sample from a normal distribution\n",
    "    synthetic_data = np.random.normal(loc = mean, scale = std_dev, size = samples)\n",
    "\n",
    "    synth_data[column] = synthetic_data   \n",
    "\n",
    "synth_data"
   ]
  },
  {
   "cell_type": "code",
   "execution_count": null,
   "metadata": {},
   "outputs": [],
   "source": [
    "synth_data.describe()"
   ]
  },
  {
   "cell_type": "code",
   "execution_count": null,
   "metadata": {},
   "outputs": [],
   "source": [
    "# Mean and variance of each columm in the synthetic_data\n",
    "smean = synth_data.mean()\n",
    "\n",
    "svar = synth_data.var()\n",
    "\n",
    "for column in nums.columns:\n",
    "    print(f\"Column: {column}\")\n",
    "    print(f\"Mean: {smean[column]}\")\n",
    "    print(f\"Variance: {svar[column]}\\n\")"
   ]
  }
 ],
 "metadata": {
  "kernelspec": {
   "display_name": "Python 3",
   "language": "python",
   "name": "python3"
  },
  "language_info": {
   "codemirror_mode": {
    "name": "ipython",
    "version": 3
   },
   "file_extension": ".py",
   "mimetype": "text/x-python",
   "name": "python",
   "nbconvert_exporter": "python",
   "pygments_lexer": "ipython3",
   "version": "3.11.3"
  }
 },
 "nbformat": 4,
 "nbformat_minor": 2
}
