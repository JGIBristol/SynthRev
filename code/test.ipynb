{
 "cells": [
  {
   "cell_type": "code",
   "execution_count": 2,
   "metadata": {},
   "outputs": [],
   "source": [
    "import pandas as pd\n",
    "\n",
    "import SynthDataGen as sdg"
   ]
  },
  {
   "cell_type": "code",
   "execution_count": 3,
   "metadata": {},
   "outputs": [],
   "source": [
    "# Load the data i.e., load only the specified columns.\n",
    "data = pd.read_csv('final.csv', usecols=['anchor_age', 'Heart Rate', 'O2 saturation pulseoxymetry', 'Respiratory Rate'])\n",
    "\n",
    "# For statisitcal synthetic data\n",
    "#data = pd.read_csv('final.csv', usecols=['anchor_age', 'Heart Rate', 'O2 saturation pulseoxymetry', 'Respiratory Rate'], nrows = 15000)\n",
    "\n",
    "# Drop outliers in the O2 Saturation pulseoxymetry column\n",
    "data = data[(data['O2 saturation pulseoxymetry'] != 811100.0) & (data['O2 saturation pulseoxymetry'] != 9795.0)]"
   ]
  },
  {
   "cell_type": "code",
   "execution_count": null,
   "metadata": {},
   "outputs": [],
   "source": [
    "# Statistical Method\n",
    "synth_data, test_results = sdg.process_and_generate_synthetic_data(data)"
   ]
  },
  {
   "cell_type": "code",
   "execution_count": 10,
   "metadata": {},
   "outputs": [],
   "source": [
    "# Independent KDE\n",
    "synthetic_data_kde_indep = sdg.generate_kde_indep(data, sample_num=15000)\n"
   ]
  },
  {
   "cell_type": "code",
   "execution_count": 11,
   "metadata": {},
   "outputs": [],
   "source": [
    "# Multi-variate KDE\n",
    "synthetic_data_kde_multi = sdg.generate_kde_multi(data, sample_num=15000)\n"
   ]
  },
  {
   "cell_type": "code",
   "execution_count": null,
   "metadata": {},
   "outputs": [],
   "source": [
    "# WGAN Method\n",
    "generated_samples_df = sdg.train_wgan_and_generate_samples(data)\n"
   ]
  }
 ],
 "metadata": {
  "kernelspec": {
   "display_name": "Python 3",
   "language": "python",
   "name": "python3"
  },
  "language_info": {
   "codemirror_mode": {
    "name": "ipython",
    "version": 3
   },
   "file_extension": ".py",
   "mimetype": "text/x-python",
   "name": "python",
   "nbconvert_exporter": "python",
   "pygments_lexer": "ipython3",
   "version": "3.11.3"
  }
 },
 "nbformat": 4,
 "nbformat_minor": 2
}
