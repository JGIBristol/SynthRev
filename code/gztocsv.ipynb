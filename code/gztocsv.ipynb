{
 "cells": [
  {
   "cell_type": "markdown",
   "metadata": {},
   "source": [
    "This code converts .gz files to .csv files.\n",
    "\n",
    "It assumes that the .gz files are saved in a folder called \"gzdata\", look like \"caregiver.csv.gz\" (which is how the mimic iv files look) and that you want to put the csv files in a folder called \"csvdata\"."
   ]
  },
  {
   "cell_type": "code",
   "execution_count": 1,
   "metadata": {},
   "outputs": [
    {
     "name": "stdout",
     "output_type": "stream",
     "text": [
      "caregiver.csv.gz has been converted to csv format.\n",
      "datetimeevents.csv.gz has been converted to csv format.\n",
      "icustays.csv.gz has been converted to csv format.\n",
      "procedureevents.csv.gz has been converted to csv format.\n"
     ]
    }
   ],
   "source": [
    "import os\n",
    "import gzip\n",
    "import csv\n",
    "\n",
    "for file in os.listdir('gzdata'):\n",
    "    if file.endswith('.gz'):\n",
    "        full_path = os.path.join('gzdata', file)  # Get the full path of the file\n",
    "        csvFile = gzip.open(full_path, 'rt', newline='')  # Open in text mode, not binary, no line ending translation\n",
    "        reader = csv.reader(csvFile)  # No reopening involved\n",
    "        with open('csvdata/' + file[:-3], 'w', newline='') as f:    # Write to a new file in csvdata folder\n",
    "            writer = csv.writer(f)\n",
    "            writer.writerows(reader)\n",
    "            print(f\"{file} has been converted to csv format.\")\n",
    "\n",
    "        csvFile.close()"
   ]
  }
 ],
 "metadata": {
  "kernelspec": {
   "display_name": "syntheticenv",
   "language": "python",
   "name": "python3"
  },
  "language_info": {
   "codemirror_mode": {
    "name": "ipython",
    "version": 3
   },
   "file_extension": ".py",
   "mimetype": "text/x-python",
   "name": "python",
   "nbconvert_exporter": "python",
   "pygments_lexer": "ipython3",
   "version": "3.10.13"
  }
 },
 "nbformat": 4,
 "nbformat_minor": 2
}
