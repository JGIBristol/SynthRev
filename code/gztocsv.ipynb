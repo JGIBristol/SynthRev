{
 "cells": [
  {
   "cell_type": "markdown",
   "metadata": {},
   "source": [
    "This code converts .gz files to .csv files.\n",
    "\n",
    "It assumes that the .gz files are saved in a folder called \"gzdata\", look like \"caregiver.csv.gz\" (which is how the mimic iv files look) and that you want to put the csv files in a folder called \"csvdata\"."
   ]
  },
  {
   "cell_type": "code",
   "execution_count": 10,
   "metadata": {},
   "outputs": [
    {
     "name": "stdout",
     "output_type": "stream",
     "text": [
      "c:\\Users\\hd15639\\OneDrive - University of Bristol\\Documents\\ChakayaSummer\\Code\n"
     ]
    }
   ],
   "source": [
    "import os\n",
    "import gzip\n",
    "import csv\n",
    "\n",
    "print(os.getcwd())\n",
    "\n",
    "# Use an absolute path for the 'gzdata' directory\n",
    "gzdata_dir = 'C:/Users/hd15639/OneDrive - University of Bristol/Documents/ChakayaSummer/gzdata'  # Replace with the actual path to your 'gzdata' directory\n",
    "csvdata_dir = 'C:/Users/hd15639/OneDrive - University of Bristol/Documents/ChakayaSummer/csvdata'  # Replace with the actual path to your 'csvdata' directory"
   ]
  },
  {
   "cell_type": "code",
   "execution_count": 11,
   "metadata": {},
   "outputs": [
    {
     "name": "stdout",
     "output_type": "stream",
     "text": [
      "admissions.csv.gz has been converted to csv format.\n",
      "caregiver.csv.gz has been converted to csv format.\n",
      "datetimeevents.csv.gz has been converted to csv format.\n",
      "diagnoses_icd.csv.gz has been converted to csv format.\n",
      "d_icd_diagnoses.csv.gz has been converted to csv format.\n",
      "d_icd_procedures.csv.gz has been converted to csv format.\n",
      "icustays.csv.gz has been converted to csv format.\n",
      "patients.csv.gz has been converted to csv format.\n",
      "procedureevents.csv.gz has been converted to csv format.\n"
     ]
    }
   ],
   "source": [
    "for file in os.listdir(gzdata_dir):\n",
    "    if file.endswith('.gz'):\n",
    "        full_path = os.path.join(gzdata_dir, file)  # Get the full path of the file\n",
    "        csvFile = gzip.open(full_path, 'rt', newline='')  # Open in text mode, not binary, no line ending translation\n",
    "        reader = csv.reader(csvFile)  # No reopening involved\n",
    "        with open(os.path.join(csvdata_dir, file[:-3]), 'w', newline='') as f:    # Write to a new file in csvdata folder\n",
    "            writer = csv.writer(f)\n",
    "            writer.writerows(reader)\n",
    "            print(f\"{file} has been converted to csv format.\")\n",
    "\n",
    "        csvFile.close()"
   ]
  }
 ],
 "metadata": {
  "kernelspec": {
   "display_name": "syntheticenv",
   "language": "python",
   "name": "python3"
  },
  "language_info": {
   "codemirror_mode": {
    "name": "ipython",
    "version": 3
   },
   "file_extension": ".py",
   "mimetype": "text/x-python",
   "name": "python",
   "nbconvert_exporter": "python",
   "pygments_lexer": "ipython3",
   "version": "3.10.13"
  }
 },
 "nbformat": 4,
 "nbformat_minor": 2
}
