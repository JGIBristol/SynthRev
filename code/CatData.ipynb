{
 "cells": [
  {
   "cell_type": "markdown",
   "metadata": {},
   "source": [
    "This code creates a dataset with categorical features."
   ]
  },
  {
   "cell_type": "code",
   "execution_count": 1,
   "metadata": {},
   "outputs": [],
   "source": [
    "# Import libraries\n",
    "import os\n",
    "import pandas as pd\n",
    "import numpy as np"
   ]
  },
  {
   "cell_type": "code",
   "execution_count": null,
   "metadata": {},
   "outputs": [],
   "source": [
    "# Load data\n",
    "\n",
    "# icu-stays\n",
    "icu_data = pd.read_csv(os.path.join('icustays.csv', 'icustays.csv'), usecols=['subject_id', 'hadm_id','los'])\n",
    "\n",
    "#patients\n",
    "patient_data = pd.read_csv(os.path.join('patients.csv', 'patients.csv'))\n",
    "\n",
    "#admissions\n",
    "admission_data = pd.read_csv(os.path.join('admissions.csv', 'admissions.csv'), usecols=['subject_id','hadm_id', 'admission_location', 'discharge_location', 'marital_status', 'race'])\n",
    "\n",
    "# ICD-10 Diagnosis\n",
    "diag_data = pd.read_csv(os.path.join('d_icd_diagnoses.csv', 'd_icd_diagnoses.csv'))\n",
    "\n",
    "diag_data = diag_data[diag_data['icd_version'] == 10]\n",
    "\n",
    "# ICD-10 Patient Info\n",
    "diag_patient = pd.read_csv('diagnoses_icd.csv', usecols= ['subject_id', 'hadm_id','icd_code', 'icd_version'])\n",
    "\n",
    "diag_patient = diag_patient[diag_patient['icd_version'] == 10]\n",
    "\n",
    "# ICD - 10 Procedures \n",
    "procedure_data = pd.read_csv(os.path.join('d_icd_procedures.csv', 'd_icd_procedures.csv'))\n",
    "\n",
    "#ICD - 10 Treatment info\n",
    "treat_patient = pd.read_csv('procedures_icd.csv', usecols= ['subject_id', 'hadm_id','icd_code', 'icd_version'])\n",
    "\n",
    "treat_patient = treat_patient[treat_patient['icd_version'] == 10]\n"
   ]
  }
 ],
 "metadata": {
  "kernelspec": {
   "display_name": "Python 3",
   "language": "python",
   "name": "python3"
  },
  "language_info": {
   "codemirror_mode": {
    "name": "ipython",
    "version": 3
   },
   "file_extension": ".py",
   "mimetype": "text/x-python",
   "name": "python",
   "nbconvert_exporter": "python",
   "pygments_lexer": "ipython3",
   "version": "3.11.3"
  }
 },
 "nbformat": 4,
 "nbformat_minor": 2
}
