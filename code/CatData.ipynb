{
 "cells": [
  {
   "cell_type": "markdown",
   "metadata": {},
   "source": [
    "This code creates a dataset with categorical features."
   ]
  },
  {
   "cell_type": "code",
   "execution_count": 1,
   "metadata": {},
   "outputs": [],
   "source": [
    "# Import libraries\n",
    "import os\n",
    "import pandas as pd\n",
    "import numpy as np"
   ]
  },
  {
   "cell_type": "markdown",
   "metadata": {},
   "source": [
    "To load the data replace with the actual path to your data"
   ]
  },
  {
   "cell_type": "code",
   "execution_count": 7,
   "metadata": {},
   "outputs": [],
   "source": [
    "# Load data\n",
    "\n",
    "# icu-stays\n",
    "icu_data = pd.read_csv(os.path.join('..','icustays.csv', 'icustays.csv'), usecols=['subject_id', 'hadm_id','los'])\n",
    "\n",
    "#patients\n",
    "patient_data = pd.read_csv(os.path.join('..','patients.csv', 'patients.csv'))\n",
    "\n",
    "#admissions\n",
    "admission_data = pd.read_csv(os.path.join('..','admissions.csv', 'admissions.csv'), usecols=['subject_id','hadm_id', 'admission_location', 'discharge_location', 'marital_status', 'race'])\n",
    "\n",
    "# ICD-10 Diagnosis\n",
    "diag_data = pd.read_csv(os.path.join('..','d_icd_diagnoses.csv', 'd_icd_diagnoses.csv'))\n",
    "\n",
    "diag_data = diag_data[diag_data['icd_version'] == 10]\n",
    "\n",
    "# ICD-10 Patient Info\n",
    "diag_patient = pd.read_csv(os.path.join('..','diagnoses_icd.csv'), usecols= ['subject_id', 'hadm_id','icd_code', 'icd_version'])\n",
    "\n",
    "diag_patient = diag_patient[diag_patient['icd_version'] == 10]\n",
    "\n",
    "# ICD - 10 Procedures \n",
    "procedure_data = pd.read_csv(os.path.join('..','d_icd_procedures.csv', 'd_icd_procedures.csv'))\n",
    "\n",
    "#ICD - 10 Treatment info\n",
    "treat_patient = pd.read_csv(os.path.join('..','procedures_icd.csv'), usecols= ['subject_id', 'hadm_id','icd_code', 'icd_version'])\n",
    "\n",
    "treat_patient = treat_patient[treat_patient['icd_version'] == 10]\n"
   ]
  },
  {
   "cell_type": "code",
   "execution_count": 8,
   "metadata": {},
   "outputs": [],
   "source": [
    "# Creating the consolidated table\n",
    "\n",
    "# 1. Combine the two diagnoses tables and procedures table\n",
    "diagnosis = pd.merge(diag_patient, diag_data, on = ['icd_code', 'icd_version'])\n",
    "\n",
    "diagnosis.rename(columns = {'long_title': 'diagnosis', 'icd_code': 'icd_code_d'}, inplace= True)\n",
    "\n",
    "treatment = pd.merge(treat_patient, procedure_data, on = ['icd_code', 'icd_version'])\n",
    "\n",
    "treatment.rename(columns = {'long_title': 'treatment', 'icd_code': 'icd_code_p'}, inplace= True)\n",
    "\n",
    "# Table with diagnosis information\n",
    "data4 = icu_data.merge(patient_data, on = 'subject_id').merge(admission_data, on =  ['subject_id', 'hadm_id'], how= 'inner').merge(diagnosis, on =  ['subject_id', 'hadm_id'], how= 'inner')\n",
    "\n",
    "#Table with treatment information\n",
    "data44 = icu_data.merge(patient_data, on = 'subject_id').merge(admission_data, on =  ['subject_id', 'hadm_id'], how= 'inner').merge(treatment, on =  ['subject_id', 'hadm_id'], how= 'inner')\n"
   ]
  },
  {
   "cell_type": "code",
   "execution_count": 9,
   "metadata": {},
   "outputs": [],
   "source": [
    "data4.to_csv('Combined_Diagnosis.csv')"
   ]
  },
  {
   "cell_type": "code",
   "execution_count": 10,
   "metadata": {},
   "outputs": [],
   "source": [
    "data44.to_csv('Combined_Treatment.csv')"
   ]
  },
  {
   "cell_type": "code",
   "execution_count": null,
   "metadata": {},
   "outputs": [],
   "source": []
  }
 ],
 "metadata": {
  "kernelspec": {
   "display_name": "Python 3",
   "language": "python",
   "name": "python3"
  },
  "language_info": {
   "codemirror_mode": {
    "name": "ipython",
    "version": 3
   },
   "file_extension": ".py",
   "mimetype": "text/x-python",
   "name": "python",
   "nbconvert_exporter": "python",
   "pygments_lexer": "ipython3",
   "version": "3.11.3"
  }
 },
 "nbformat": 4,
 "nbformat_minor": 2
}
